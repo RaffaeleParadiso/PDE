{
 "cells": [
  {
   "cell_type": "code",
   "execution_count": 3,
   "id": "e5572d3c",
   "metadata": {},
   "outputs": [],
   "source": [
    "import numpy as np\n",
    "from numba import njit\n",
    "import module.func as func\n",
    "import module.graph as graph\n",
    "import module.constants as const\n",
    "import module.initial_state as state_i\n",
    "\n",
    "time_steps = const.TIME_STEPS\n",
    "L = const.LEN\n",
    "N = const.N_\n",
    "D = const.D_\n",
    "INTV = const.INTV_\n",
    "dt = const.DT\n",
    "x = const.X\n",
    "y = const.Y\n",
    "dx = const.DX\n",
    "dy = const.DY\n",
    "betax = const.BETAX\n",
    "betay = const.BETAY\n",
    "alphax = const.ALPHAX\n",
    "alphay = const.ALPHAY\n",
    "\n",
    "@njit()\n",
    "def alternate_direction_implicit():\n",
    "    cc = 0\n",
    "    p = state_i.initial_state_(N, x, y, L)\n",
    "    p_total = np.zeros((round(time_steps/INTV), N, N))\n",
    "    for t in range(time_steps):\n",
    "        step = np.zeros(N)\n",
    "        temp = np.zeros(N)\n",
    "        p_new = np.zeros(np.shape(p))\n",
    "        tt = t*dt\n",
    "        main = np.ones(N)\n",
    "        up_diag = np.ones(N)\n",
    "        low_diag = np.ones(N)\n",
    "        # implicito su x ed esplicito su y\n",
    "        for j in range(1, N-1):\n",
    "            for i in range(N):\n",
    "                up_diag[i] = 0.5*betax*state_i.g(x[i+1], y[j])\n",
    "                low_diag[i] = -0.5*betax*state_i.g(x[i-1], y[j])\n",
    "            for i in range(N):\n",
    "                step[i] = p[i, j]+0.5*betay*(state_i.f(x[i], y[j+1], tt)*p[i, j+1]-state_i.f(x[i], y[j-1], tt)*p[i, j-1]) +\\\n",
    "                    alphay*0.5*(p[i, j+1]-2*p[i, j]+p[i, j-1])\n",
    "            temp = func.solve_matrix(N, low_diag[1:], main, up_diag[:N-1], step)\n",
    "            for i in range(N):\n",
    "                p_new[i, j] = temp[i]\n",
    "        # implicito su y esplicito su x\n",
    "        main = np.ones(N)*(1+alphay)\n",
    "        for i in range(1, N-1):\n",
    "            for j in range(N-1):\n",
    "                up_diag[j] = -0.5*betay*state_i.f(x[i], y[j+1], tt+dt/2)-0.5*alphay\n",
    "                low_diag[j] = 0.5*betay*state_i.f(x[i], y[j-1], tt+dt/2)-0.5*alphay\n",
    "            for j in range(N-1):\n",
    "                step[j] = p_new[i, j]-0.5*betax * \\\n",
    "                    (state_i.g(x[i+1], y[j])*p[i+1, j]-state_i.g(x[i-1], y[j])*p[i-1, j])\n",
    "            temp = func.solve_matrix(N, low_diag[1:], main, up_diag[:N-1], step)\n",
    "            for j in range(N-1):\n",
    "                p[i, j] = temp[j]\n",
    "        p = state_i.boundary_conditions(N,'periodic', p)\n",
    "        if t % INTV == 0:\n",
    "            p_total[cc] = p\n",
    "            cc += 1\n",
    "            print(f'time step: {t}')\n",
    "    return(p_total)\n",
    "\n"
   ]
  },
  {
   "cell_type": "code",
   "execution_count": 4,
   "id": "4461ef2f",
   "metadata": {
    "scrolled": true
   },
   "outputs": [
    {
     "name": "stdout",
     "output_type": "stream",
     "text": [
      "time step: 0\n",
      "time step: 1\n",
      "time step: 2\n",
      "time step: 3\n",
      "time step: 4\n",
      "time step: 5\n",
      "time step: 6\n",
      "time step: 7\n",
      "time step: 8\n",
      "time step: 9\n"
     ]
    }
   ],
   "source": [
    "p_total = alternate_direction_implicit()"
   ]
  },
  {
   "cell_type": "code",
   "execution_count": 5,
   "id": "3eaa2f43",
   "metadata": {},
   "outputs": [],
   "source": [
    "from IPython.display import display, Math\n",
    "import IPython\n",
    "ip = IPython.core.getipython.get_ipython()\n",
    "ip.display_formatter.formatters['text/latex'].enabled = True\n",
    "\n",
    "def print_matrix(array):\n",
    "    matrix = ''\n",
    "    for row in array:\n",
    "        try:\n",
    "            for number in row:\n",
    "                matrix += f'{number:.5f}&'\n",
    "        except TypeError:\n",
    "            matrix += f'{row}&'\n",
    "        matrix = matrix[:-1] + r'\\\\'\n",
    "    display(Math(r'\\begin{bmatrix}'+matrix+r'\\end{bmatrix}'))"
   ]
  },
  {
   "cell_type": "code",
   "execution_count": 10,
   "id": "f8d8cda3",
   "metadata": {},
   "outputs": [
    {
     "data": {
      "text/latex": [
       "$\\displaystyle \\begin{bmatrix}0.36786&0.36786&0.60629&0.36786&0.36786\\\\0.36786&0.36781&0.60629&0.36786&0.36781\\\\0.60642&0.60642&0.99930&0.60642&0.60642\\\\0.36786&0.36786&0.60629&0.36786&0.36786\\\\0.36786&0.36781&0.60629&0.36786&0.36781\\\\\\end{bmatrix}$"
      ],
      "text/plain": [
       "<IPython.core.display.Math object>"
      ]
     },
     "metadata": {},
     "output_type": "display_data"
    }
   ],
   "source": [
    "print_matrix(p_total[0,:,:])"
   ]
  },
  {
   "cell_type": "code",
   "execution_count": 7,
   "id": "2b7c6e94",
   "metadata": {},
   "outputs": [
    {
     "data": {
      "text/latex": [
       "$\\displaystyle \\begin{bmatrix}0.36809&0.36809&0.60582&0.36809&0.36809\\\\0.36809&0.36769&0.60582&0.36809&0.36769\\\\0.60621&0.60621&0.99791&0.60621&0.60621\\\\0.36809&0.36809&0.60582&0.36809&0.36809\\\\0.36809&0.36769&0.60582&0.36809&0.36769\\\\\\end{bmatrix}$"
      ],
      "text/plain": [
       "<IPython.core.display.Math object>"
      ]
     },
     "metadata": {},
     "output_type": "display_data"
    }
   ],
   "source": [
    "print_matrix(p_total[2,:,:])"
   ]
  },
  {
   "cell_type": "code",
   "execution_count": null,
   "id": "4e7752e2",
   "metadata": {},
   "outputs": [],
   "source": [
    "# %matplotlib notebook\n",
    "# %matplotlib ipympl\n",
    "import matplotlib.pyplot as plt\n",
    "from matplotlib.animation import FuncAnimation\n",
    "\n",
    "fig = plt.figure()\n",
    "ax = fig.add_subplot(111, projection='3d') \n",
    "X, Y = np.meshgrid(x, y)\n",
    "\n",
    "def update_plot(frame_number, p_total, plot):\n",
    "    plot[0].remove()\n",
    "    plot[0] = ax.plot_surface(X, Y, p_total[frame_number,:,:], cmap=\"inferno\")\n",
    "\n",
    "plot = [ax.plot_surface(X,Y, p_total[0,:,:], color='0.75', rstride=1, cstride=1)] #first frame\n",
    "ani= FuncAnimation(fig, update_plot, 100, fargs=(p_total, plot), interval=200)\n",
    "ax.set_xlabel('x')\n",
    "ax.set_ylabel('y')\n",
    "plt.show()"
   ]
  },
  {
   "cell_type": "code",
   "execution_count": null,
   "id": "6faf7517",
   "metadata": {},
   "outputs": [],
   "source": []
  },
  {
   "cell_type": "code",
   "execution_count": null,
   "id": "221ada69",
   "metadata": {},
   "outputs": [],
   "source": []
  },
  {
   "cell_type": "code",
   "execution_count": null,
   "id": "5e63edfd",
   "metadata": {},
   "outputs": [],
   "source": []
  }
 ],
 "metadata": {
  "kernelspec": {
   "display_name": "Python 3 (ipykernel)",
   "language": "python",
   "name": "python3"
  },
  "language_info": {
   "codemirror_mode": {
    "name": "ipython",
    "version": 3
   },
   "file_extension": ".py",
   "mimetype": "text/x-python",
   "name": "python",
   "nbconvert_exporter": "python",
   "pygments_lexer": "ipython3",
   "version": "3.9.7"
  }
 },
 "nbformat": 4,
 "nbformat_minor": 5
}
